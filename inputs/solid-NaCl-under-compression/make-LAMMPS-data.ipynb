{
 "cells": [
  {
   "cell_type": "code",
   "execution_count": null,
   "metadata": {},
   "outputs": [],
   "source": [
    "import numpy as np\n",
    "import copy"
   ]
  },
  {
   "cell_type": "markdown",
   "metadata": {},
   "source": [
    "#### Define box based on the NaCl"
   ]
  },
  {
   "cell_type": "code",
   "execution_count": null,
   "metadata": {},
   "outputs": [],
   "source": [
    "dnacl = 2.84 # Na-Cl typical distance in Angstroms\n",
    "dx, dy, dz = dnacl, dnacl, dnacl\n",
    "nx, ny, nz = 10, 10, 10\n",
    "Lx, Ly, Lz = nx*dx, ny*dy, nz*dz\n",
    "print('The desired Na-Cl layer dimensions are '+str(Lx)+' A x ' +str(Ly)+' A x '+str(Lz)+' A')\n",
    "# LAMMPS box size\n",
    "txlo, txhi = -Lx/2, Lx/2\n",
    "tylo, tyhi = -Ly/2, Ly/2\n",
    "tzlo, tzhi = -Lz/2, Lz/2"
   ]
  },
  {
   "cell_type": "markdown",
   "metadata": {},
   "source": [
    "#### Create the NaCl wall"
   ]
  },
  {
   "cell_type": "code",
   "execution_count": null,
   "metadata": {},
   "outputs": [],
   "source": [
    "basestructure = np.loadtxt('NaCl-positions.dat') # import the 8 basic atoms to replicates\n",
    "# replicate the initial structure\n",
    "naclwall = copy.deepcopy(basestructure)\n",
    "for xx in np.arange(txlo+dx/2,txhi,2*dx):\n",
    "    for yy in np.arange(tylo+dy/2,tyhi,2*dy):\n",
    "        for zz in np.arange(tzlo+dz/2,tzhi,2*dz):\n",
    "            naclwall = np.append(naclwall,basestructure+[0,0,0,0,xx,yy,zz], axis=0)\n",
    "naclwall = naclwall[8:]\n",
    "# renumber atoms ids\n",
    "for n in range(len(naclwall)):\n",
    "    naclwall[n,0] = np.int64(n+1)"
   ]
  },
  {
   "cell_type": "markdown",
   "metadata": {},
   "source": [
    "#### Create lammps Atom matrix"
   ]
  },
  {
   "cell_type": "code",
   "execution_count": null,
   "metadata": {},
   "outputs": [],
   "source": [
    "cptatm = 0\n",
    "cptmol = 1\n",
    "atoms = np.zeros((1000000,7))\n",
    "# ## place the NaCl\n",
    "for m in naclwall:\n",
    "    atoms[cptatm] = m[0], cptmol, m[2], m[3], m[4], m[5], m[6]\n",
    "    cptatm += 1\n",
    "# ## remove excess lines\n",
    "atoms = atoms[0:cptatm]     "
   ]
  },
  {
   "cell_type": "markdown",
   "metadata": {},
   "source": [
    "#### write LAMMPS data file"
   ]
  },
  {
   "cell_type": "code",
   "execution_count": null,
   "metadata": {},
   "outputs": [],
   "source": [
    "\n",
    "f = open(\"NaCl.data\", \"w\")\n",
    "f.write('# LAMMPS data file \\n\\n')\n",
    "f.write(str(cptatm)+' atoms\\n')\n",
    "f.write('\\n')\n",
    "f.write(str(int(2))+' atom types\\n')\n",
    "f.write('\\n')\n",
    "f.write(str(txlo)+' '+str(txhi)+' xlo xhi\\n')\n",
    "f.write(str(tylo)+' '+str(tyhi)+' ylo yhi\\n')\n",
    "f.write(str(tzlo)+' '+str(tzhi)+' zlo zhi\\n')\n",
    "f.write('\\n')\n",
    "f.write('Atoms\\n')\n",
    "f.write('\\n')\n",
    "for nlin in range(len(atoms)):\n",
    "    newline = atoms[nlin]\n",
    "    for col in range(len(newline)):\n",
    "        if col < 3:\n",
    "            f.write(str(int(newline[col]))+' ')\n",
    "        else :\n",
    "            f.write(str(newline[col])+' ')\n",
    "    f.write('\\n')\n",
    "f.close()"
   ]
  }
 ],
 "metadata": {
  "kernelspec": {
   "display_name": "Python 3.8.10 64-bit",
   "language": "python",
   "name": "python3"
  },
  "language_info": {
   "codemirror_mode": {
    "name": "ipython",
    "version": 3
   },
   "file_extension": ".py",
   "mimetype": "text/x-python",
   "name": "python",
   "nbconvert_exporter": "python",
   "pygments_lexer": "ipython3",
   "version": "3.11.4"
  },
  "vscode": {
   "interpreter": {
    "hash": "916dbcbb3f70747c44a77c7bcd40155683ae19c65e1c03b4aa3499c5328201f1"
   }
  }
 },
 "nbformat": 4,
 "nbformat_minor": 4
}
